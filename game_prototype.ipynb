{
 "cells": [
  {
   "cell_type": "code",
   "execution_count": 1,
   "metadata": {},
   "outputs": [],
   "source": [
    "import turtle"
   ]
  },
  {
   "cell_type": "code",
   "execution_count": 2,
   "metadata": {},
   "outputs": [],
   "source": [
    "border = turtle.Turtle()\n",
    "border.color(\"white\")\n",
    "border.penup()\n",
    "border.setpos(-250,-250)\n",
    "border.pendown()\n",
    "for i in range(4):\n",
    "  border.forward(500)\n",
    "  border.left(90)\n",
    "border.turtlesize(.01)\n",
    "\n"
   ]
  },
  {
   "cell_type": "code",
   "execution_count": 3,
   "metadata": {},
   "outputs": [],
   "source": [
    "window = turtle.Screen()\n",
    "window.bgcolor(\"black\")\n",
    "window.title(\"Game Prototype\")\n",
    "rocket = turtle.Turtle()\n",
    "rocket.color(\"red\")\n",
    "plane = turtle.Turtle()\n",
    "plane.color(\"blue\")\n",
    "plane.shape(\"circle\")\n",
    "plane.turtlesize(.7)\n",
    "rocket.turtlesize(.5)"
   ]
  },
  {
   "cell_type": "code",
   "execution_count": 4,
   "metadata": {},
   "outputs": [],
   "source": [
    "rocket.penup()\n",
    "plane.penup()\n",
    "rocket.setpos(0,0)\n",
    "plane.goto(10,10)\n",
    "rocket.forward(90)"
   ]
  },
  {
   "cell_type": "code",
   "execution_count": null,
   "metadata": {},
   "outputs": [],
   "source": [
    "def moveforward():\n",
    "    plane.forward(15)\n",
    "def movebackward():\n",
    "    plane.backward(15)\n",
    "def moveleft():\n",
    "    plane.left(90)\n",
    "    plane.forward(15)\n",
    "def moveright():\n",
    "    plane.right(90)\n",
    "    plane.forward(15)"
   ]
  },
  {
   "cell_type": "code",
   "execution_count": 6,
   "metadata": {},
   "outputs": [],
   "source": [
    "window.onkey(moveforward,\"w\")\n",
    "window.onkey(movebackward,\"s\")\n",
    "window.onkey(moveleft,\"a\")\n",
    "window.onkey(moveright,\"d\")\n",
    "window.onkey(turtle.done,\"p\")"
   ]
  }
 ],
 "metadata": {
  "kernelspec": {
   "display_name": "Python 3",
   "language": "python",
   "name": "python3"
  },
  "language_info": {
   "codemirror_mode": {
    "name": "ipython",
    "version": 3
   },
   "file_extension": ".py",
   "mimetype": "text/x-python",
   "name": "python",
   "nbconvert_exporter": "python",
   "pygments_lexer": "ipython3",
   "version": "3.7.1"
  }
 },
 "nbformat": 4,
 "nbformat_minor": 2
}
