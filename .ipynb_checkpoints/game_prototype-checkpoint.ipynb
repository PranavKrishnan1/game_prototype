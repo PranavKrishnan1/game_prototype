{
 "cells": [
  {
   "cell_type": "code",
   "execution_count": 1,
   "metadata": {},
   "outputs": [],
   "source": [
    "import turtle"
   ]
  },
  {
   "cell_type": "code",
   "execution_count": 2,
   "metadata": {},
   "outputs": [],
   "source": [
    "border = turtle.Turtle()\n",
    "border.color(\"white\")\n",
    "border.penup()\n",
    "border.setpos(-250,-250)\n",
    "border.pendown()\n",
    "for i in range(4):\n",
    "  border.forward(500)\n",
    "  border.left(90)\n",
    "border.turtlesize(.01)\n",
    "\n"
   ]
  },
  {
   "cell_type": "code",
   "execution_count": 3,
   "metadata": {},
   "outputs": [],
   "source": [
    "window = turtle.Screen()\n",
    "window.bgcolor(\"black\")\n",
    "window.title(\"Game Prototype\")\n",
    "rocket = turtle.Turtle()\n",
    "rocket.color(\"red\")\n",
    "plane = turtle.Turtle()\n",
    "plane.color(\"blue\")\n",
    "plane.shape(\"circle\")\n",
    "plane.turtlesize(.7)\n",
    "rocket.turtlesize(.5)"
   ]
  },
  {
   "cell_type": "code",
   "execution_count": 4,
   "metadata": {},
   "outputs": [],
   "source": [
    "rocket.penup()\n",
    "plane.penup()\n",
    "rocket.setpos(0,0)\n",
    "plane.goto(10,10)\n",
    "rocket.forward(90)"
   ]
  },
  {
   "cell_type": "code",
   "execution_count": null,
   "metadata": {},
   "outputs": [],
   "source": [
    "def k1():\n",
    "    plane.forward(10)\n",
    "\n",
    "def k2():\n",
    "    plane.left(90)\n",
    "\n",
    "def k3():\n",
    "    plane.right(90)\n",
    "\n",
    "def k4():\n",
    "    plane.back(10)\n",
    "\n",
    "window.onkey(k1, \"w\")\n",
    "window.onkey(k2, \"a\")\n",
    "window.onkey(k3, \"d\")\n",
    "window.onkey(k4, \"s\")\n",
    "\n",
    "window.listen()\n",
    "window.mainloop()"
   ]
  },
  {
   "cell_type": "code",
   "execution_count": 6,
   "metadata": {},
   "outputs": [],
   "source": []
  }
 ],
 "metadata": {
  "kernelspec": {
   "display_name": "Python 3",
   "language": "python",
   "name": "python3"
  },
  "language_info": {
   "codemirror_mode": {
    "name": "ipython",
    "version": 3
   },
   "file_extension": ".py",
   "mimetype": "text/x-python",
   "name": "python",
   "nbconvert_exporter": "python",
   "pygments_lexer": "ipython3",
   "version": "3.7.1"
  }
 },
 "nbformat": 4,
 "nbformat_minor": 2
}
